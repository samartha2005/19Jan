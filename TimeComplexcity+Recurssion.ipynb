{
 "cells": [
  {
   "cell_type": "code",
   "execution_count": null,
   "id": "effa7e69-4e75-41b3-bb59-8ada116a197b",
   "metadata": {},
   "outputs": [],
   "source": [
    "# Find time complexity of below code blocks :"
   ]
  },
  {
   "cell_type": "code",
   "execution_count": 2,
   "id": "a93683b7-6341-48b2-a069-3afd58039034",
   "metadata": {},
   "outputs": [],
   "source": [
    "# Problem 1 :\n",
    "def quicksort(arr):\n",
    "    if len(arr) <= 1:\n",
    "        return arr\n",
    "    pivot = arr[len(arr) // 2]\n",
    "    left = [x for x in arr if x < pivot]\n",
    "    middle = [x for x in arr if x == pivot]\n",
    "    right = [x for x in arr if x > pivot]\n",
    "    return quicksort(left) + middle + quicksort(right)\n",
    "\n",
    "'''\n",
    "For time complexcity of a given problem\n",
    "T(n)=3T(n/2)+O(n)\n",
    "In this case:\n",
    "->a = 3(the number of subproblems)\n",
    "->b = 2(the factor by which the problem size is reduced in each recursive call)\n",
    "->f(n)=O(n)(the cost of dividing the problem and combining subproblem solutions)\n",
    "f(n)=O(n clog k n) where c is < logba\n",
    "Therefore, the time complexity of the given quicksort function is Θ(n log 2​3).\n",
    "'''"
   ]
  },
  {
   "cell_type": "code",
   "execution_count": 6,
   "id": "b8b6ec23-829f-4e4b-ac7a-510a5bed2065",
   "metadata": {},
   "outputs": [
    {
     "data": {
      "text/plain": [
       "[1, 8, 25, 34, 56, 90]"
      ]
     },
     "execution_count": 6,
     "metadata": {},
     "output_type": "execute_result"
    }
   ],
   "source": [
    "quicksort([34,8,56,90,1,25])"
   ]
  },
  {
   "cell_type": "code",
   "execution_count": 17,
   "id": "9ef5ddf7-0cd7-47f4-b9c3-e875b260264f",
   "metadata": {},
   "outputs": [],
   "source": [
    "# Problem 2 :\n",
    "def nested_loop_example(matrix):\n",
    "    rows, cols = len(matrix), len(matrix[0])\n",
    "    total = 0\n",
    "    for i in range(rows):\n",
    "        for j in range(cols):\n",
    "            total += matrix[i][j]\n",
    "    return total"
   ]
  },
  {
   "cell_type": "code",
   "execution_count": 20,
   "id": "ca6a7d23-58ed-4d9b-9bdf-fdbe4d507a73",
   "metadata": {},
   "outputs": [
    {
     "name": "stdout",
     "output_type": "stream",
     "text": [
      "Sum of matrix elements: 45\n"
     ]
    }
   ],
   "source": [
    "matrix= ([\n",
    "    [1, 2, 3],\n",
    "    [4, 5, 6],\n",
    "    [7, 8, 9]\n",
    "])\n",
    "result = nested_loop_example(matrix)\n",
    "print(\"Sum of matrix elements:\", result)\n",
    "'''\n",
    "the total number of iterations is rows * cols. In each iteration, a constant amount of work (addition operation) is performed.\n",
    "So, the time complexity of the nested_loop_example function is O(rows*cols) \n",
    "'''"
   ]
  },
  {
   "cell_type": "code",
   "execution_count": 22,
   "id": "26e69d90-d0ca-4551-a5cb-0d8b840110fa",
   "metadata": {},
   "outputs": [],
   "source": [
    "#Problem 3 :\n",
    "def example_function(arr):\n",
    "    result = 0\n",
    "    for element in arr:\n",
    "        result += element\n",
    "    return result\n",
    "'''\n",
    "-> The function uses a single loop that iterates over each element in the input array arr.\n",
    "-> In each iteration, a constant amount of work is performed (addition operation).\n",
    "Therefore, the time complexity of this function is O(n), where n is the length of the input array arr. \n",
    "The function has a linear time complexity because the number of operations is directly proportional to the size of the input.\n",
    "'''"
   ]
  },
  {
   "cell_type": "code",
   "execution_count": 23,
   "id": "36442200-8be1-4c09-a64e-e1545e5243d5",
   "metadata": {},
   "outputs": [
    {
     "data": {
      "text/plain": [
       "283"
      ]
     },
     "execution_count": 23,
     "metadata": {},
     "output_type": "execute_result"
    }
   ],
   "source": [
    "example_function([67,89,34,1,2,90])"
   ]
  },
  {
   "cell_type": "code",
   "execution_count": 24,
   "id": "050d1d82-9e79-4488-8960-d51ab9d220f2",
   "metadata": {},
   "outputs": [],
   "source": [
    "#Problem 4 :\n",
    "def longest_increasing_subsequence(nums):\n",
    "    n = len(nums)\n",
    "    lis = [1] * n\n",
    "    for i in range(1, n):\n",
    "        for j in range(0, i):\n",
    "            if nums[i] > nums[j] and lis[i] < lis[j] + 1:\n",
    "                lis[i] = lis[j] + 1\n",
    "    return max(lis)\n",
    "'''\n",
    "->The function uses two nested loops. The outer loop runs in O(n) time, where n is the length of the input array nums.\n",
    "-> The inner loop runs in O(n) time in the worst case (when i is equal to n−1).\n",
    "-> Inside the inner loop, constant time operations are performed.\n",
    "The dominant factor here is the nested loop, so the overall time complexity of the function is O(n^2)\n",
    "This is because, in the worst case, for each element, the function compares it with all the previous elements.\n",
    "\n",
    "It's worth noting that there are more efficient algorithms for solving the longest increasing subsequence problem with a\n",
    "time complexity of  O(nlogn). The provided solution is a quadratic dynamic programming solution, \n",
    "which may not be optimal for very large arrays.\n",
    "'''"
   ]
  },
  {
   "cell_type": "code",
   "execution_count": 28,
   "id": "667eaa0b-fa61-40a3-bc92-e713c8f79440",
   "metadata": {},
   "outputs": [
    {
     "data": {
      "text/plain": [
       "4"
      ]
     },
     "execution_count": 28,
     "metadata": {},
     "output_type": "execute_result"
    }
   ],
   "source": [
    "longest_increasing_subsequence([12,34,78,9,45,67])"
   ]
  },
  {
   "cell_type": "code",
   "execution_count": 30,
   "id": "6714d454-3a76-45eb-a1c5-88777744d070",
   "metadata": {},
   "outputs": [],
   "source": [
    "#Problem 5 :\n",
    "def mysterious_function(arr):\n",
    "    n = len(arr)\n",
    "    result = 0\n",
    "    for i in range(n):\n",
    "        for j in range(i, n):\n",
    "            result += arr[i] * arr[j]\n",
    "    return result\n",
    "'''\n",
    "The outer loop runs in O(n) time, where n is the length of the input array arr\n",
    "The inner loop also runs in O(n) time in the worst case.\n",
    "'''"
   ]
  },
  {
   "cell_type": "code",
   "execution_count": 31,
   "id": "6723d376-8019-4bd3-804b-dc3f37fe1200",
   "metadata": {},
   "outputs": [
    {
     "data": {
      "text/plain": [
       "63636"
      ]
     },
     "execution_count": 31,
     "metadata": {},
     "output_type": "execute_result"
    }
   ],
   "source": [
    "mysterious_function([34,67,89,17,38,12,70])"
   ]
  },
  {
   "cell_type": "code",
   "execution_count": null,
   "id": "f8503f4f-d882-4a19-a8e4-390d9c666c82",
   "metadata": {},
   "outputs": [],
   "source": [
    "# Solve the following problems on recursion"
   ]
  },
  {
   "cell_type": "code",
   "execution_count": 32,
   "id": "ed0e6e02-a652-4229-adc5-99b95a8caf4f",
   "metadata": {},
   "outputs": [
    {
     "name": "stdout",
     "output_type": "stream",
     "text": [
      "Sum of digits: 6\n"
     ]
    }
   ],
   "source": [
    "'''Problem 6 : Sum of Digits\n",
    "Write a recursive function to calculate the sum of digits of a given positive integer.'''\n",
    "\n",
    "# code\n",
    "def sum_of_digits(n):\n",
    "    # Base case: if n is a single-digit number, return n\n",
    "    if n < 10:\n",
    "        return n\n",
    "    # Recursive case: sum the last digit and the sum of digits of the rest\n",
    "    else:\n",
    "        return n % 10 + sum_of_digits(n // 10)\n",
    "\n",
    "# Example usage:\n",
    "result = sum_of_digits(123)\n",
    "print(\"Sum of digits:\", result)\n",
    "\n",
    "'''\n",
    "If the given number n is a single-digit number (less than 10), it simply returns n\n",
    "Otherwise, it calculates the sum of the last digit (n % 10) and the sum of digits of the remaining part (n // 10)\n",
    "'''"
   ]
  },
  {
   "cell_type": "code",
   "execution_count": 33,
   "id": "15d7d6fc-a304-4fdc-8db6-fb38ec4ff48e",
   "metadata": {},
   "outputs": [
    {
     "name": "stdout",
     "output_type": "stream",
     "text": [
      "Fibonacci Series: [0, 1, 1, 2, 3, 5]\n"
     ]
    }
   ],
   "source": [
    "'''Problem 7: Fibonacci Series\n",
    "Write a recursive function to generate the first n numbers of the Fibonacci series.'''\n",
    "\n",
    "# code\n",
    "def fibonacci_series(n):\n",
    "    if n <= 0:\n",
    "        return []\n",
    "    elif n == 1:\n",
    "        return [0]\n",
    "    elif n == 2:\n",
    "        return [0, 1]\n",
    "    else:\n",
    "        # Generate the first (n-1) numbers and add the last Fibonacci number\n",
    "        series = fibonacci_series(n - 1)\n",
    "        series.append(series[-1] + series[-2])\n",
    "        return series\n",
    "\n",
    "# Example usage:\n",
    "result = fibonacci_series(6)\n",
    "print(\"Fibonacci Series:\", result)\n",
    "\n",
    "'''\n",
    "If n is less than or equal to 0, it returns an empty list.\n",
    "If n is 1, it returns the list [0].\n",
    "If n is 2, it returns the list [0, 1].\n",
    "For n greater than 2, it generates the first (n-1) numbers of the Fibonacci series recursively and appends the last \n",
    "Fibonacci number to it.\n",
    "'''"
   ]
  },
  {
   "cell_type": "code",
   "execution_count": 34,
   "id": "f6abd57f-aa09-44f5-92dc-1686dfeda753",
   "metadata": {},
   "outputs": [
    {
     "name": "stdout",
     "output_type": "stream",
     "text": [
      "Subset Sum Exists: True\n"
     ]
    }
   ],
   "source": [
    "'''Problem 8 : Subset Sum\n",
    "Given a set of positive integers and a target sum, write a recursive function to determine if there exists a subset\n",
    "of the integers that adds up to the target sum.'''\n",
    "\n",
    "# code\n",
    "def subset_sum(nums, target_sum):\n",
    "    # Base case: If the target sum is 0, an empty subset can achieve it\n",
    "    if target_sum == 0:\n",
    "        return True\n",
    "    \n",
    "    # Base case: If the list is empty, there is no subset to consider\n",
    "    if not nums:\n",
    "        return False\n",
    "\n",
    "    # Recursive case: Check if the subset can be formed by either including or excluding the current element\n",
    "    include_current = subset_sum(nums[1:], target_sum - nums[0])\n",
    "    exclude_current = subset_sum(nums[1:], target_sum)\n",
    "\n",
    "    # Return True if either of the cases is True\n",
    "    return include_current or exclude_current\n",
    "\n",
    "# Example usage:\n",
    "result = subset_sum([3, 34, 4, 12, 5, 2], 9)\n",
    "print(\"Subset Sum Exists:\", result)\n"
   ]
  },
  {
   "cell_type": "code",
   "execution_count": null,
   "id": "40d63383-6387-4ccf-b633-cfa023882339",
   "metadata": {},
   "outputs": [],
   "source": [
    "'''Problem 9: Word Break\n",
    "Given a non-empty string and a dictionary of words, write a recursive function to determine if the string can be\n",
    "segmented into a space-separated sequence of dictionary words. \n",
    "word_break( leetcode , [ leet , code ]) -> True'''\n",
    "\n",
    "# code\n",
    "def word_break(s, word_dict):\n",
    "    n = len(s)\n",
    "\n",
    "    # Create a list to store whether a substring ending at index i can be segmented\n",
    "    dp = [False] * (n + 1)\n",
    "    dp[0] = True  # An empty string can be segmented\n",
    "\n",
    "    for i in range(1, n + 1):\n",
    "        for word in word_dict:\n",
    "            # Check if the current substring ending at index i can be segmented\n",
    "            if dp[i - len(word)] and s[i - len(word):i] == word:\n",
    "                dp[i] = True\n",
    "                break\n",
    "\n",
    "    return dp[n]\n",
    "\n",
    "# Example usage:\n",
    "word_dictionary = {\"leet\", \"code\"}\n",
    "input_string = \"leetcode\"\n",
    "result = word_break(input_string, word_dictionary)\n",
    "print(\"Can be segmented:\", result)\n",
    "'''\n",
    "In this implementation, I've used dynamic programming to efficiently solve the problem. The dp list is used to store whether\n",
    "a substring ending at index i can be segmented into words from the dictionary. The function returns True if the entire string\n",
    "can be segmented and False otherwise.\n",
    "'''"
   ]
  },
  {
   "cell_type": "code",
   "execution_count": 36,
   "id": "adda7ae6-202e-410c-9430-5dfa66e39921",
   "metadata": {},
   "outputs": [
    {
     "name": "stdout",
     "output_type": "stream",
     "text": [
      "['.Q..', '...Q', 'Q...', '..Q.']\n",
      "['..Q.', 'Q...', '...Q', '.Q..']\n"
     ]
    }
   ],
   "source": [
    "'''Problem 10 : N-Queens\n",
    "Implement a recursive function to solve the N Queens problem, where you have to place N queens on an N×N\n",
    "chessboard in such a way that no two queens threaten each other.'''\n",
    "\n",
    "# code\n",
    "def is_safe(board, row, col, n):\n",
    "    # Check if there is a queen in the same column\n",
    "    for i in range(row):\n",
    "        if board[i][col] == 'Q':\n",
    "            return False\n",
    "\n",
    "    # Check if there is a queen in the left diagonal\n",
    "    for i, j in zip(range(row-1, -1, -1), range(col-1, -1, -1)):\n",
    "        if board[i][j] == 'Q':\n",
    "            return False\n",
    "\n",
    "    # Check if there is a queen in the right diagonal\n",
    "    for i, j in zip(range(row-1, -1, -1), range(col+1, n)):\n",
    "        if board[i][j] == 'Q':\n",
    "            return False\n",
    "\n",
    "    return True\n",
    "\n",
    "def solve_n_queens_util(board, row, n, result):\n",
    "    if row == n:\n",
    "        # If all queens are placed successfully, add the current solution to the result\n",
    "        result.append([\"\".join(row) for row in board])\n",
    "        return\n",
    "\n",
    "    for col in range(n):\n",
    "        if is_safe(board, row, col, n):\n",
    "            board[row][col] = 'Q'\n",
    "            solve_n_queens_util(board, row + 1, n, result)\n",
    "            board[row][col] = '.'  # Backtrack\n",
    "\n",
    "def solve_n_queens(n):\n",
    "    result = []\n",
    "    # Create an empty chessboard\n",
    "    board = [['.' for _ in range(n)] for _ in range(n)]\n",
    "    solve_n_queens_util(board, 0, n, result)\n",
    "    return result\n",
    "\n",
    "# Example usage:\n",
    "n = 4\n",
    "solutions = solve_n_queens(n)\n",
    "for solution in solutions:\n",
    "    print(solution)\n",
    "\n",
    "'''\n",
    "This program defines a function solve_n_queens that takes an integer n and returns a list of all possible solutions to the\n",
    "N-Queens problem. The solve_n_queens_util function is a recursive helper function that uses backtracking to explore \n",
    "all possible placements of queens on the chessboard. The is_safe function checks whether it is safe to place a queen in a\n",
    "given position. The result is a list of lists representing the solutions, where each solution is a list of strings \n",
    "representing the chessboard.\n",
    "'''"
   ]
  }
 ],
 "metadata": {
  "kernelspec": {
   "display_name": "Python 3 (ipykernel)",
   "language": "python",
   "name": "python3"
  },
  "language_info": {
   "codemirror_mode": {
    "name": "ipython",
    "version": 3
   },
   "file_extension": ".py",
   "mimetype": "text/x-python",
   "name": "python",
   "nbconvert_exporter": "python",
   "pygments_lexer": "ipython3",
   "version": "3.10.8"
  }
 },
 "nbformat": 4,
 "nbformat_minor": 5
}
